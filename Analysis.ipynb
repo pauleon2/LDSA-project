{
 "cells": [
  {
   "cell_type": "code",
   "execution_count": 1,
   "metadata": {},
   "outputs": [],
   "source": [
    "import h5py\n",
    "import sys\n",
    "import os\n",
    "import glob\n",
    "import csv\n",
    "import pyspark\n",
    "from pyspark import SparkContext, SparkConf, SQLContext\n",
    "from pyspark.sql import SparkSession\n",
    "from hdfs import InsecureClient\n",
    "import numpy as np\n",
    "import tables"
   ]
  },
  {
   "cell_type": "markdown",
   "metadata": {},
   "source": [
    "Go through the base path and find all the .h5 files that are present there then save them to a csv file in order to load them later into spark\n",
    "\n",
    "TODO: this actually needs to be reworked to create a table based on the hdfs file directory instead of local, however it doesn't matter as long as we don't change the files just run the code and pretend it does the right thing for now"
   ]
  },
  {
   "cell_type": "code",
   "execution_count": 2,
   "metadata": {
    "scrolled": true
   },
   "outputs": [],
   "source": [
    "basedir = '../MillionSongSubset/data'\n",
    "# os.listdir(basedir)"
   ]
  },
  {
   "cell_type": "code",
   "execution_count": 3,
   "metadata": {},
   "outputs": [
    {
     "ename": "FileNotFoundError",
     "evalue": "[Errno 2] No such file or directory: '../MillionSongSubset/data/files.csv'",
     "output_type": "error",
     "traceback": [
      "\u001b[0;31m---------------------------------------------------------------------------\u001b[0m",
      "\u001b[0;31mFileNotFoundError\u001b[0m                         Traceback (most recent call last)",
      "\u001b[0;32m<ipython-input-3-5a4d1b08a16c>\u001b[0m in \u001b[0;36m<module>\u001b[0;34m()\u001b[0m\n\u001b[1;32m      8\u001b[0m \u001b[0mflat_list\u001b[0m \u001b[0;34m=\u001b[0m \u001b[0;34m[\u001b[0m\u001b[0mitem\u001b[0m \u001b[0;32mfor\u001b[0m \u001b[0msublist\u001b[0m \u001b[0;32min\u001b[0m \u001b[0mall_files\u001b[0m \u001b[0;32mfor\u001b[0m \u001b[0mitem\u001b[0m \u001b[0;32min\u001b[0m \u001b[0msublist\u001b[0m\u001b[0;34m]\u001b[0m\u001b[0;34m\u001b[0m\u001b[0;34m\u001b[0m\u001b[0m\n\u001b[1;32m      9\u001b[0m \u001b[0mfile\u001b[0m \u001b[0;34m=\u001b[0m \u001b[0;34m'/files.csv'\u001b[0m\u001b[0;34m\u001b[0m\u001b[0;34m\u001b[0m\u001b[0m\n\u001b[0;32m---> 10\u001b[0;31m \u001b[0;32mwith\u001b[0m \u001b[0mopen\u001b[0m\u001b[0;34m(\u001b[0m\u001b[0mbasedir\u001b[0m \u001b[0;34m+\u001b[0m \u001b[0mfile\u001b[0m\u001b[0;34m,\u001b[0m \u001b[0;34m'w'\u001b[0m\u001b[0;34m,\u001b[0m \u001b[0mnewline\u001b[0m\u001b[0;34m=\u001b[0m\u001b[0;34m''\u001b[0m\u001b[0;34m)\u001b[0m \u001b[0;32mas\u001b[0m \u001b[0mmyfile\u001b[0m\u001b[0;34m:\u001b[0m\u001b[0;34m\u001b[0m\u001b[0;34m\u001b[0m\u001b[0m\n\u001b[0m\u001b[1;32m     11\u001b[0m     \u001b[0;32mfor\u001b[0m \u001b[0mline\u001b[0m \u001b[0;32min\u001b[0m \u001b[0mflat_list\u001b[0m\u001b[0;34m:\u001b[0m\u001b[0;34m\u001b[0m\u001b[0;34m\u001b[0m\u001b[0m\n\u001b[1;32m     12\u001b[0m         \u001b[0mmyfile\u001b[0m\u001b[0;34m.\u001b[0m\u001b[0mwrite\u001b[0m\u001b[0;34m(\u001b[0m\u001b[0mline\u001b[0m\u001b[0;34m)\u001b[0m\u001b[0;34m\u001b[0m\u001b[0;34m\u001b[0m\u001b[0m\n",
      "\u001b[0;31mFileNotFoundError\u001b[0m: [Errno 2] No such file or directory: '../MillionSongSubset/data/files.csv'"
     ]
    }
   ],
   "source": [
    "ext='.h5'\n",
    "all_files = []\n",
    "for root, dirs, files in os.walk(basedir):\n",
    "    #print(root, dirs, f)\n",
    "    files = glob.glob(os.path.join(root,'*'+ext))\n",
    "    all_files.append(files)\n",
    "\n",
    "flat_list = [item for sublist in all_files for item in sublist]\n",
    "file = '/files.csv'\n",
    "with open(basedir + file, 'w', newline='') as myfile:\n",
    "    for line in flat_list:\n",
    "        myfile.write(line)\n",
    "        myfile.write('\\n')"
   ]
  },
  {
   "cell_type": "markdown",
   "metadata": {},
   "source": [
    "Set up the spark application"
   ]
  },
  {
   "cell_type": "code",
   "execution_count": 3,
   "metadata": {},
   "outputs": [],
   "source": [
    "# calculate the number of partitions we want for the rdds\n",
    "num_nodes = 3\n",
    "num_rep = 2 * num_nodes\n",
    "#sc.stop()\n",
    "conf = (SparkConf()\n",
    "   .setMaster(\"spark://192.168.2.110:7077\")\n",
    "   .setAppName(\"Group14\")\n",
    "   .set(\"spark.executor.cores\", 2) # if anything >2, does not run\n",
    "   .set(\"spark.pytspark.python\",\"python3\")\n",
    "   .set(\"spark.dynamicAllocation.enabled\", False)\n",
    "   .set(\"spark.shuffle.service.enabled\", False)\n",
    "   .set(\"spark.executor.memory\", \"2g\")\n",
    "   .set(\"spark.local.dir\", \"/home/ubuntu/MillionSong/spark/tmp\"))\n",
    "\n",
    "#sc = SparkContext(conf = conf)\n",
    "sc = SparkContext.getOrCreate(conf)"
   ]
  },
  {
   "cell_type": "code",
   "execution_count": 4,
   "metadata": {},
   "outputs": [],
   "source": [
    "sqlContext = SQLContext(sc)"
   ]
  },
  {
   "cell_type": "markdown",
   "metadata": {},
   "source": [
    "code to convert filenames to actual file content"
   ]
  },
  {
   "cell_type": "code",
   "execution_count": 5,
   "metadata": {},
   "outputs": [],
   "source": [
    "# good methods to explore the h5 inread: .keys(), .attrs.items() see documentation of h5py\n",
    "\n",
    "def get_title(file, idx=0):\n",
    "    return file['metadata']['songs']['title'][idx].decode(\"utf-8\")\n",
    "\n",
    "def get_artist_name(file, idx=0):\n",
    "    return file['metadata']['songs']['artist_name'][idx].decode(\"utf-8\")\n",
    "\n",
    "\n",
    "def get_artist_familiarity(h5,songidx=0):\n",
    "    \"\"\"\n",
    "    Get artist familiarity from a HDF5 song file, by default the first song in it\n",
    "    \"\"\"\n",
    "    return str(h5['metadata']['songs']['artist_familiarity'][songidx]).encode('utf-8', 'ignore').decode(\"utf-8\")\n",
    "\n",
    "def get_artist_hotttnesss(h5,songidx=0):\n",
    "    \"\"\"\n",
    "    Get artist hotttnesss from a HDF5 song file, by default the first song in it\n",
    "    \"\"\"\n",
    "    return str(h5['metadata']['songs']['artist_hotttnesss'][songidx]).encode('utf-8','ignore').decode(\"utf-8\")\n",
    "\n",
    "\n",
    "def get_artist_id(h5,songidx=0):\n",
    "    \"\"\"\n",
    "    Get artist id from a HDF5 song file, by default the first song in it\n",
    "    \"\"\"\n",
    "    return h5['metadata']['songs']['artist_id'][songidx].decode(\"utf-8\")\n",
    "\n",
    "def get_artist_mbid(h5,songidx=0):\n",
    "    \"\"\"\n",
    "    Get artist musibrainz id from a HDF5 song file, by default the first song in it\n",
    "    \"\"\"\n",
    "    return h5['metadata']['songs']['artist_mbid'][songidx].decode(\"utf-8\")\n",
    "\n",
    "def get_artist_playmeid(h5,songidx=0):\n",
    "    \"\"\"\n",
    "    Get artist playme id from a HDF5 song file, by default the first song in it\n",
    "    \"\"\"\n",
    "    return str(h5['metadata']['songs']['artist_playmeid'][songidx]).encode('utf-8','ignore').decode(\"utf-8\")\n",
    "\n",
    "def get_artist_7digitalid(h5,songidx=0):\n",
    "    \"\"\"\n",
    "    Get artist 7digital id from a HDF5 song file, by default the first song in it\n",
    "    \"\"\"\n",
    "    return str(h5['metadata']['songs']['artist_7digitalid'][songidx]).encode('utf-8','ignore').decode(\"utf-8\")\n",
    "\n",
    "def get_artist_latitude(h5,songidx=0):\n",
    "    \"\"\"\n",
    "    Get artist latitude from a HDF5 song file, by default the first song in it\n",
    "    \"\"\"\n",
    "    return str(h5['metadata']['songs']['artist_latitude'][songidx]).encode('utf-8','ignore').decode(\"utf-8\")\n",
    "\n",
    "def get_artist_longitude(h5,songidx=0):\n",
    "    \"\"\"\n",
    "    Get artist longitude from a HDF5 song file, by default the first song in it\n",
    "    \"\"\"\n",
    "    return str(h5['metadata']['songs']['artist_longitude'][songidx]).encode('utf-8','ignore').decode(\"utf-8\")\n",
    "\n",
    "def get_artist_location(h5,songidx=0):\n",
    "    \"\"\"\n",
    "    Get artist location from a HDF5 song file, by default the first song in it\n",
    "    \"\"\"\n",
    "    return h5['metadata']['songs']['artist_location'][songidx].decode(\"utf-8\")\n",
    "\n",
    "\n",
    "def get_release(h5,songidx=0):\n",
    "    \"\"\"\n",
    "    Get release from a HDF5 song file, by default the first song in it\n",
    "    \"\"\"\n",
    "    return h5['metadata']['songs']['release'][songidx].decode(\"utf-8\")\n",
    "\n",
    "def get_release_7digitalid(h5,songidx=0):\n",
    "    \"\"\"\n",
    "    Get release 7digital id from a HDF5 song file, by default the first song in it\n",
    "    \"\"\"\n",
    "    return str(h5['metadata']['songs']['release_7digitalid'][songidx]).encode('utf-8','ignore').decode(\"utf-8\")\n",
    "\n",
    "def get_song_id(h5,songidx=0):\n",
    "    \"\"\"\n",
    "    Get song id from a HDF5 song file, by default the first song in it\n",
    "    \"\"\"\n",
    "    return h5['metadata']['songs']['song_id'][songidx].decode(\"utf-8\")\n",
    "\n",
    "def get_song_hotttnesss(h5,songidx=0):\n",
    "    \"\"\"\n",
    "    Get song hotttnesss from a HDF5 song file, by default the first song in it\n",
    "    \"\"\"\n",
    "    return str(h5['metadata']['songs']['song_hotttnesss'][songidx]).encode('utf-8','ignore').decode(\"utf-8\")\n",
    "\n",
    "\n",
    "def get_track_7digitalid(h5,songidx=0):\n",
    "    \"\"\"\n",
    "    Get track 7digital id from a HDF5 song file, by default the first song in it\n",
    "    \"\"\"\n",
    "    return str(h5['metadata']['songs']['track_7digitalid'][songidx]).encode('utf-8','ignore').decode(\"utf-8\")\n",
    "\n",
    "\n",
    "def get_analysis_sample_rate(h5,songidx=0):\n",
    "    \"\"\"\n",
    "    Get analysis sample rate from a HDF5 song file, by default the first song in it\n",
    "    \"\"\"\n",
    "    return str(h5['analysis']['songs']['analysis_sample_rate'][songidx]).encode('utf-8','ignore').decode(\"utf-8\")\n",
    "\n",
    "\n",
    "def get_audio_md5(h5,songidx=0):\n",
    "    \"\"\"\n",
    "    Get audio MD5 from a HDF5 song file, by default the first song in it\n",
    "    \"\"\"\n",
    "    return h5['analysis']['songs']['audio_md5'][songidx].decode(\"utf-8\")\n",
    "\n",
    "\n",
    "def get_danceability(h5,songidx=0):\n",
    "    \"\"\"\n",
    "    Get danceability from a HDF5 song file, by default the first song in it\n",
    "    \"\"\"\n",
    "    return str(h5['analysis']['songs']['danceability'][songidx]).encode('utf-8','ignore').decode(\"utf-8\")\n",
    "\n",
    "\n",
    "def get_duration(h5,songidx=0):\n",
    "    \"\"\"\n",
    "    Get duration from a HDF5 song file, by default the first song in it\n",
    "    \"\"\"\n",
    "    return str(h5['analysis']['songs']['duration'][songidx]).encode('utf-8','ignore').decode(\"utf-8\")\n",
    "\n",
    "\n",
    "def get_end_of_fade_in(h5,songidx=0):\n",
    "    \"\"\"\n",
    "    Get end of fade in from a HDF5 song file, by default the first song in it\n",
    "    \"\"\"\n",
    "    return str(h5['analysis']['songs']['end_of_fade_in'][songidx]).encode('utf-8','ignore').decode(\"utf-8\")\n",
    "\n",
    "\n",
    "def get_energy(h5,songidx=0):\n",
    "    \"\"\"\n",
    "    Get energy from a HDF5 song file, by default the first song in it\n",
    "    \"\"\"\n",
    "    return str(h5['analysis']['songs']['energy'][songidx]).encode('utf-8','ignore').decode(\"utf-8\")\n",
    "\n",
    "\n",
    "def get_key(h5,songidx=0):\n",
    "    \"\"\"\n",
    "    Get key from a HDF5 song file, by default the first song in it\n",
    "    \"\"\"\n",
    "    return str(h5['analysis']['songs']['key'][songidx]).encode('utf-8','ignore').decode(\"utf-8\")\n",
    "\n",
    "\n",
    "def get_key_confidence(h5,songidx=0):\n",
    "    \"\"\"\n",
    "    Get key confidence from a HDF5 song file, by default the first song in it\n",
    "    \"\"\"\n",
    "    return str(h5['analysis']['songs']['key_confidence'][songidx]).encode('utf-8','ignore').decode(\"utf-8\")\n",
    "\n",
    "\n",
    "def get_loudness(h5,songidx=0):\n",
    "    \"\"\"\n",
    "    Get loudness from a HDF5 song file, by default the first song in it\n",
    "    \"\"\"\n",
    "    return str(h5['analysis']['songs']['loudness'][songidx]).encode('utf-8','ignore').decode(\"utf-8\")\n",
    "\n",
    "\n",
    "def get_mode(h5,songidx=0):\n",
    "    \"\"\"\n",
    "    Get mode from a HDF5 song file, by default the first song ifn it\n",
    "    \"\"\"\n",
    "    return str(h5['analysis']['songs']['mode'][songidx]).encode('utf-8','ignore').decode(\"utf-8\")\n",
    "\n",
    "\n",
    "def get_mode_confidence(h5,songidx=0):\n",
    "    \"\"\"\n",
    "    Get mode confidence from a HDF5 song file, by default the first song in it\n",
    "    \"\"\"\n",
    "    return str(h5['analysis']['songs']['mode_confidence'][songidx]).encode('utf-8','ignore').decode(\"utf-8\")\n",
    "\n",
    "\n",
    "def get_start_of_fade_out(h5,songidx=0):\n",
    "    \"\"\"\n",
    "    Get start of fade out from a HDF5 song file, by default the first song in it\n",
    "    \"\"\"\n",
    "    return str(h5['analysis']['songs']['start_of_fade_out'][songidx]).encode('utf-8','ignore').decode(\"utf-8\")\n",
    "\n",
    "\n",
    "def get_tempo(h5,songidx=0):\n",
    "    \"\"\"\n",
    "    Get tempo from a HDF5 song file, by default the first song in it\n",
    "    \"\"\"\n",
    "    return str(h5['analysis']['songs']['tempo'][songidx]).encode('utf-8','ignore').decode(\"utf-8\")\n",
    "\n",
    "def get_time_signature(h5,songidx=0):\n",
    "    \"\"\"\n",
    "    Get signature from a HDF5 song file, by default the first song in it\n",
    "    \"\"\"\n",
    "    return str(h5['analysis']['songs']['time_signature'][songidx]).encode('utf-8','ignore').decode(\"utf-8\")\n",
    "\n",
    "def get_time_signature_confidence(h5,songidx=0):\n",
    "    \"\"\"\n",
    "    Get signature confidence from a HDF5 song file, by default the first song in it\n",
    "    \"\"\"\n",
    "    return str(h5['analysis']['songs']['time_signature_confidence'][songidx]).encode('utf-8','ignore').decode(\"utf-8\")\n",
    "\n",
    "def get_track_id(h5,songidx=0):\n",
    "    \"\"\"\n",
    "    Get track id from a HDF5 song file, by default the first song in it\n",
    "    \"\"\"\n",
    "    return str(h5['analysis']['songs']['track_id'][songidx]).encode('utf-8','ignore').decode(\"utf-8\")\n",
    "\n",
    "def get_year(h5,songidx=0):\n",
    "    \"\"\"\n",
    "    Get release year from a HDF5 song file, by default the first song in it\n",
    "    \"\"\"\n",
    "    return str(h5['musicbrainz']['songs']['year'][songidx]).encode('utf-8','ignore').decode(\"utf-8\")"
   ]
  },
  {
   "cell_type": "code",
   "execution_count": 10,
   "metadata": {},
   "outputs": [
    {
     "name": "stdout",
     "output_type": "stream",
     "text": [
      "It took 45.8726 seconds\n"
     ]
    }
   ],
   "source": [
    "# df = sc.binaryFiles(\"hdfs://192.168.2.110:9000/LDSA/subset\", minPartitions=12)\n",
    "import time\n",
    "tic = time.perf_counter()\n",
    "\n",
    "with open(\"/home/ubuntu/files.csv\", \"r\", newline=\"\\n\") as f:\n",
    "    results = [line.split(',')[-1][1:-2] for line in f]\n",
    "results = results[0:1000]\n",
    "df = sc.union([sc.binaryFiles(\"hdfs://192.168.2.110:9000\" + f) for f in results])\n",
    "\n",
    "toc = time.perf_counter()\n",
    "print(f\"It took {toc - tic:0.4f} seconds\")"
   ]
  },
  {
   "cell_type": "code",
   "execution_count": 15,
   "metadata": {},
   "outputs": [],
   "source": [
    "df_mapped = df.map(lambda x: read(x[1]))"
   ]
  },
  {
   "cell_type": "code",
   "execution_count": 17,
   "metadata": {},
   "outputs": [],
   "source": [
    "def read(x):\n",
    "    import io\n",
    "    import h5py\n",
    "    with h5py.File(io.BytesIO(x), 'r') as f:\n",
    "        song = []\n",
    "        \n",
    "        song.append(get_artist_name(f))\n",
    "        song.append(get_title(f))\n",
    "        song.append(get_artist_familiarity(f))\n",
    "        song.append(get_artist_hotttnesss(f))\n",
    "        song.append(get_artist_id(f))\n",
    "        song.append(get_artist_mbid(f))\n",
    "        song.append(get_artist_playmeid(f))\n",
    "        song.append(get_artist_7digitalid(f))\n",
    "        song.append(get_artist_latitude(f))\n",
    "        song.append(get_artist_longitude(f))\n",
    "        song.append(get_artist_location(f))\n",
    "        song.append(get_release(f))\n",
    "        song.append(get_release_7digitalid(f))\n",
    "        song.append(get_song_id(f))\n",
    "        song.append(get_song_hotttnesss(f))\n",
    "        song.append(get_track_7digitalid(f))\n",
    "        song.append(get_analysis_sample_rate(f))\n",
    "        song.append(get_audio_md5(f))\n",
    "        song.append(get_danceability(f))\n",
    "        song.append(get_duration(f))\n",
    "        song.append(get_end_of_fade_in(f))\n",
    "        song.append(get_energy(f))\n",
    "        song.append(get_key(f))\n",
    "        song.append(get_key_confidence(f))\n",
    "        song.append(get_loudness(f))\n",
    "        song.append(get_mode(f))\n",
    "        song.append(get_mode_confidence(f))\n",
    "        song.append(get_start_of_fade_out(f))\n",
    "        song.append(get_tempo(f))\n",
    "        song.append(get_time_signature(f))\n",
    "        song.append(get_time_signature_confidence(f))\n",
    "        song.append(get_track_id(f))\n",
    "        song.append(get_year(f))\n",
    "        \n",
    "    return song"
   ]
  },
  {
   "cell_type": "code",
   "execution_count": 17,
   "metadata": {},
   "outputs": [
    {
     "name": "stdout",
     "output_type": "stream",
     "text": [
      "group,284446,2020-06-02,09:57,\"/LDSA/subset/A/A/A/TRAAAAW128F429D538.h5\"\n",
      "org.apache.spark.api.java.JavaPairRDD@6d2c54b3\n"
     ]
    }
   ],
   "source": [
    "# todo: set the number of partitions here corectly as calculated above in order to maintain speed\n",
    "\n",
    "fp = \"hdfs://192.168.2.110:9000/LDSA/subset/files.csv\"\n",
    "#print(fp)\n",
    "\n",
    "\n",
    "def binary(x):\n",
    "    return sc.binaryFiles(\"hdfs://192.168.2.110:9000/LDSA/subset\" + x[25:])\n",
    "\n",
    "def h5file(x):\n",
    "    return h5py.File(io.BytesIO(x[0][1]), 'r')\n",
    "\n",
    "def trial(x):\n",
    "    with h5py.File(\"hdfs://192.168.2.110:9000/LDSA/subset\" +x[25:]) as f:\n",
    "        result = f[x[32:]]\n",
    "        return list(result[:])\n",
    "    \n",
    "\n",
    "file_paths = sc.textFile(fp, minPartitions=12)\n",
    "print(file_paths.take(1)[0][25:])\n",
    "#flatMap(lambda x: binary(x))\n",
    "#rdd = sc.union([sc.binaryFiles(f) for f in file_paths])\n",
    "\n",
    "#rdd = file_paths.flatMap(binary)\n",
    "#rdd.take(1)\n",
    "#files.take(1)\n",
    "df = sc.binaryFiles(\"hdfs://192.168.2.110:9000/LDSA/subset\", minPartitions=12) # returns a JavaPairRDD\n",
    "#ff = sqlContext.read.binaryFile(\"hdfs://192.168.2.110:9000/LDSA/subset\")   \n",
    "#print(df.take(1))\n",
    "#df2=df.flatMap(h5file)\n",
    "#df2 = df.map(lambda x: h5file(x))\n",
    "#print(df2.take(1))\n",
    "print(df)\n",
    "\n",
    "\n",
    "files = df.map(lambda x: foo(x[1]))  \n",
    "\n",
    "def foo(data):  \n",
    "    with io.BytesIO(data) as b, h5py.File(b, 'r') as f:  \n",
    "        return list(f) # [\"analysis\", \"metadata\", \"musicbrainz\"]  \n",
    "\n",
    "#print(files.collect())\n",
    "\n",
    "\n",
    "## Old version\n",
    "#file_paths = sc.textFile(fp, minPartitions=12).map(lambda x: f2(x))\n",
    "#print(file_paths)\n",
    "\n",
    "\n",
    "## One file test\n",
    "#file_paths = sc.binaryFiles(\"hdfs://192.168.2.110:9000/LDSA/subset/A/E/E/TRAEELO128F425BD8F.h5\")\n",
    "#a = h5py.File(io.BytesIO(file_paths.take(1)[0][1]), 'r')\n",
    "#print(a)"
   ]
  },
  {
   "cell_type": "markdown",
   "metadata": {},
   "source": [
    "# Step 3: Convert rdd to dataframe\n",
    "convert the rdd (api version 1) to a dataframe (api version 2)"
   ]
  },
  {
   "cell_type": "code",
   "execution_count": 24,
   "metadata": {},
   "outputs": [
    {
     "name": "stdout",
     "output_type": "stream",
     "text": [
      "root\n",
      " |-- artist_name: string (nullable = true)\n",
      " |-- title: string (nullable = true)\n",
      " |-- artist_familiarity: string (nullable = true)\n",
      " |-- artist_hotttnesss: string (nullable = true)\n",
      " |-- artist_id: string (nullable = true)\n",
      " |-- artist_mbid: string (nullable = true)\n",
      " |-- artist_playmeid: string (nullable = true)\n",
      " |-- artist_7digitalid: string (nullable = true)\n",
      " |-- artist_latitude: string (nullable = true)\n",
      " |-- artist_longitude: string (nullable = true)\n",
      " |-- artist_location: string (nullable = true)\n",
      " |-- release: string (nullable = true)\n",
      " |-- release_7digitalid: string (nullable = true)\n",
      " |-- song_id: string (nullable = true)\n",
      " |-- song_hotnesss: string (nullable = true)\n",
      " |-- track_7digitalid: string (nullable = true)\n",
      " |-- analysis_sample_rate: string (nullable = true)\n",
      " |-- audio_md5: string (nullable = true)\n",
      " |-- danceability: string (nullable = true)\n",
      " |-- duration: string (nullable = true)\n",
      " |-- end_of_fade_in: string (nullable = true)\n",
      " |-- energy: string (nullable = true)\n",
      " |-- key: string (nullable = true)\n",
      " |-- key_confidence: string (nullable = true)\n",
      " |-- loudness: string (nullable = true)\n",
      " |-- mode: string (nullable = true)\n",
      " |-- mode_confidence: string (nullable = true)\n",
      " |-- start_of_fade_out: string (nullable = true)\n",
      " |-- tempo: string (nullable = true)\n",
      " |-- time_signature: string (nullable = true)\n",
      " |-- time_signature_confidence: string (nullable = true)\n",
      " |-- track_id: string (nullable = true)\n",
      " |-- year: string (nullable = true)\n",
      "\n",
      "It took 5.3361 seconds\n"
     ]
    }
   ],
   "source": [
    "tic = time.perf_counter()\n",
    "\n",
    "columns = ['artist_name', 'title', 'artist_familiarity', \n",
    "             'artist_hotttnesss', 'artist_id', 'artist_mbid', \n",
    "             'artist_playmeid', 'artist_7digitalid', 'artist_latitude', \n",
    "             'artist_longitude', 'artist_location', 'release', \n",
    "             'release_7digitalid', \n",
    "             'song_id', 'song_hotnesss', 'track_7digitalid', \n",
    "             'analysis_sample_rate', \n",
    "             'audio_md5', 'danceability', 'duration', 'end_of_fade_in', \n",
    "             'energy', 'key', \n",
    "             'key_confidence', 'loudness', 'mode', 'mode_confidence', \n",
    "             'start_of_fade_out', \n",
    "             'tempo', 'time_signature', \n",
    "             'time_signature_confidence', 'track_id', 'year']\n",
    "df = df_mapped.toDF(columns)\n",
    "\n",
    "toc = time.perf_counter()\n",
    "df.printSchema()\n",
    "print(f\"It took {toc - tic:0.4f} seconds\")"
   ]
  },
  {
   "cell_type": "code",
   "execution_count": 25,
   "metadata": {},
   "outputs": [
    {
     "name": "stdout",
     "output_type": "stream",
     "text": [
      "It took 0.6648 seconds\n"
     ]
    }
   ],
   "source": [
    "tic = time.perf_counter()\n",
    "# change types\n",
    "from pyspark.sql import types \n",
    "['BinaryType', 'BooleanType', 'ByteType', 'DateType', \n",
    "          'DecimalType', 'DoubleType', 'FloatType', 'IntegerType', \n",
    "           'LongType', 'ShortType', 'StringType', 'TimestampType']\n",
    "changedTypedf = df.withColumn(\"year\", df[\"year\"].cast(\"Integer\"))\\\n",
    "                .withColumn(\"track_id\", df[\"track_id\"].cast(\"Integer\"))\\\n",
    "                .withColumn(\"artist_id\", df[\"artist_id\"].cast(\"Integer\"))\\\n",
    "                .withColumn(\"song_id\", df[\"song_id\"].cast(\"Integer\"))\\\n",
    "                .withColumn(\"duration\", df[\"duration\"].cast(\"Float\"))\\\n",
    "                .withColumn(\"danceability\", df[\"danceability\"].cast(\"Float\"))\\\n",
    "                .withColumn(\"end_of_fade_in\", df[\"end_of_fade_in\"].cast(\"Float\"))\\\n",
    "                .withColumn(\"energy\", df[\"energy\"].cast(\"Float\"))\\\n",
    "                .withColumn(\"key_confidence\", df[\"key_confidence\"].cast(\"Float\"))\\\n",
    "                .withColumn(\"mode_confidence\", df[\"mode_confidence\"].cast(\"Float\"))\\\n",
    "                .withColumn(\"release_7digitalid\", df[\"release_7digitalid\"].cast(\"Integer\"))\\\n",
    "                .withColumn(\"song_hotnesss\", df[\"song_hotnesss\"].cast(\"Float\"))\\\n",
    "                .withColumn(\"start_of_fade_out\", df[\"start_of_fade_out\"].cast(\"Float\"))\\\n",
    "                .withColumn(\"loudness\", df[\"loudness\"].cast(\"Float\"))\\\n",
    "                .withColumn(\"tempo\", df[\"tempo\"].cast(\"Float\"))\n",
    "\n",
    "toc = time.perf_counter()\n",
    "print(f\"It took {toc - tic:0.4f} seconds\")"
   ]
  },
  {
   "cell_type": "markdown",
   "metadata": {},
   "source": [
    "start with the data processing"
   ]
  },
  {
   "cell_type": "code",
   "execution_count": 20,
   "metadata": {},
   "outputs": [
    {
     "name": "stdout",
     "output_type": "stream",
     "text": [
      "root\n",
      " |-- artist_name: string (nullable = true)\n",
      " |-- title: string (nullable = true)\n",
      " |-- artist_familiarity: string (nullable = true)\n",
      " |-- artist_hotttnesss: string (nullable = true)\n",
      " |-- artist_id: integer (nullable = true)\n",
      " |-- artist_mbid: string (nullable = true)\n",
      " |-- artist_playmeid: string (nullable = true)\n",
      " |-- artist_7digitalid: string (nullable = true)\n",
      " |-- artist_latitude: string (nullable = true)\n",
      " |-- artist_longitude: string (nullable = true)\n",
      " |-- artist_location: string (nullable = true)\n",
      " |-- release: string (nullable = true)\n",
      " |-- release_7digitalid: integer (nullable = true)\n",
      " |-- song_id: integer (nullable = true)\n",
      " |-- song_hotnesss: float (nullable = true)\n",
      " |-- track_7digitalid: string (nullable = true)\n",
      " |-- analysis_sample_rate: string (nullable = true)\n",
      " |-- audio_md5: string (nullable = true)\n",
      " |-- danceability: float (nullable = true)\n",
      " |-- duration: float (nullable = true)\n",
      " |-- end_of_fade_in: float (nullable = true)\n",
      " |-- energy: float (nullable = true)\n",
      " |-- key: string (nullable = true)\n",
      " |-- key_confidence: float (nullable = true)\n",
      " |-- loudness: float (nullable = true)\n",
      " |-- mode: string (nullable = true)\n",
      " |-- mode_confidence: float (nullable = true)\n",
      " |-- start_of_fade_out: float (nullable = true)\n",
      " |-- tempo: float (nullable = true)\n",
      " |-- time_signature: string (nullable = true)\n",
      " |-- time_signature_confidence: string (nullable = true)\n",
      " |-- track_id: integer (nullable = true)\n",
      " |-- year: integer (nullable = true)\n",
      "\n"
     ]
    }
   ],
   "source": [
    "changedTypedf.printSchema()"
   ]
  },
  {
   "cell_type": "markdown",
   "metadata": {},
   "source": [
    "start with some very basic metrics over the dataset:"
   ]
  },
  {
   "cell_type": "code",
   "execution_count": 21,
   "metadata": {},
   "outputs": [
    {
     "data": {
      "text/plain": [
       "[Row(artist_name='Casual', title=\"I Didn't Mean To\", artist_familiarity='0.5817937658450281', artist_hotttnesss='0.4019975433642836', artist_id=None, artist_mbid='e77e51a5-4761-45b3-9847-2051f811e366', artist_playmeid='4479', artist_7digitalid='165270', artist_latitude='nan', artist_longitude='nan', artist_location='California - LA', release='Fear Itself', release_7digitalid=300848, song_id=None, song_hotnesss=0.6021199822425842, track_7digitalid='3401791', analysis_sample_rate='22050', audio_md5='a222795e07cd65b7a530f1346f520649', danceability=0.0, duration=218.93179321289062, end_of_fade_in=0.24699999392032623, energy=0.0, key='1', key_confidence=0.7360000014305115, loudness=-11.196999549865723, mode='0', mode_confidence=0.6359999775886536, start_of_fade_out=218.9320068359375, tempo=92.197998046875, time_signature='4', time_signature_confidence='0.778', track_id=None, year=0)]"
      ]
     },
     "execution_count": 21,
     "metadata": {},
     "output_type": "execute_result"
    }
   ],
   "source": [
    "changedTypedf.take(1)"
   ]
  },
  {
   "cell_type": "markdown",
   "metadata": {},
   "source": [
    "count the number of different artists in the dataset and count the numbers of songs release every year"
   ]
  },
  {
   "cell_type": "code",
   "execution_count": 26,
   "metadata": {},
   "outputs": [
    {
     "name": "stdout",
     "output_type": "stream",
     "text": [
      "+------------------+-----+\n",
      "|       artist_name|count|\n",
      "+------------------+-----+\n",
      "|       Silverstein|    2|\n",
      "|        Eurythmics|    1|\n",
      "|      Pery Ribeiro|    1|\n",
      "|    Jennifer Brown|    1|\n",
      "|          Tomorrow|    1|\n",
      "|              Cama|    1|\n",
      "|        Lily Allen|    1|\n",
      "|      David Martin|    2|\n",
      "|C-Side & Petit Mal|    1|\n",
      "|   Brian Dullaghan|    2|\n",
      "|            Saafir|    1|\n",
      "|              A.Z.|    1|\n",
      "|       Furry Lewis|    2|\n",
      "|      Regina Belle|    2|\n",
      "|              Raze|    1|\n",
      "|       Jason Miles|    2|\n",
      "|Mons Leidvin Takle|    1|\n",
      "|               Clp|    2|\n",
      "|     Bröderna Djup|    1|\n",
      "|       Gary Morris|    1|\n",
      "+------------------+-----+\n",
      "only showing top 20 rows\n",
      "\n",
      "It took 30.7243 seconds\n"
     ]
    }
   ],
   "source": [
    "tic = time.perf_counter()\n",
    "\n",
    "changedTypedf.groupBy('artist_name')\\\n",
    "             .count()\\\n",
    "             .show()\n",
    "        \n",
    "toc = time.perf_counter()\n",
    "print(f\"It took {toc - tic:0.4f} seconds\")"
   ]
  },
  {
   "cell_type": "code",
   "execution_count": 27,
   "metadata": {},
   "outputs": [
    {
     "name": "stdout",
     "output_type": "stream",
     "text": [
      "+----+-----+\n",
      "|year|count|\n",
      "+----+-----+\n",
      "|1990|    5|\n",
      "|1975|    1|\n",
      "|1977|    2|\n",
      "|2003|   33|\n",
      "|2007|   33|\n",
      "|1974|    3|\n",
      "|1927|    1|\n",
      "|2006|   37|\n",
      "|1961|    3|\n",
      "|1997|   17|\n",
      "|1988|    4|\n",
      "|1994|    9|\n",
      "|1968|    2|\n",
      "|1930|    1|\n",
      "|1973|    1|\n",
      "|1979|    1|\n",
      "|1971|    5|\n",
      "|1966|    1|\n",
      "|2004|   27|\n",
      "|1991|    9|\n",
      "+----+-----+\n",
      "only showing top 20 rows\n",
      "\n",
      "It took 28.2213 seconds\n"
     ]
    }
   ],
   "source": [
    "tic = time.perf_counter()\n",
    "\n",
    "changedTypedf.groupBy(\"year\")\\\n",
    "             .count()\\\n",
    "             .show()\n",
    "        \n",
    "toc = time.perf_counter()\n",
    "print(f\"It took {toc - tic:0.4f} seconds\")"
   ]
  },
  {
   "cell_type": "markdown",
   "metadata": {},
   "source": [
    "Let's get a bit more advanced: Calculate the average loudness of the songs of an artists tat puplished a song after 2000"
   ]
  },
  {
   "cell_type": "code",
   "execution_count": null,
   "metadata": {},
   "outputs": [],
   "source": [
    "tic = time.perf_counter()\n",
    "from pyspark.sql.functions import col, avg\n",
    "from pyspark.sql import functions as F\n",
    "from pyspark.sql.functions import *\n",
    "\n",
    "left = changedTypedf.select(\"artist_name\").distinct().filter(changedTypedf['year'] > 2000)\n",
    "\n",
    "right = changedTypedf.groupBy(\"artist_name\")\\\n",
    "            .agg(avg(col(\"loudness\"))\\\n",
    "            .alias(\"avg_loudness\"))\\\n",
    "            .orderBy(\"avg_loudness\", ascending=False)\n",
    "\n",
    "avg_loudness = left.join(right, left.artist_name == right.artist_name)\\\n",
    "            .select(right[\"artist_name\"], \"avg_loudness\")\\\n",
    "            .orderBy(\"avg_loudness\", ascending=False)\\\n",
    "            .collect()\n",
    "        \n",
    "toc = time.perf_counter()\n",
    "print(f\"It took {toc - tic:0.4f} seconds\")"
   ]
  },
  {
   "cell_type": "code",
   "execution_count": 6,
   "metadata": {},
   "outputs": [],
   "source": [
    "sc.stop()"
   ]
  }
 ],
 "metadata": {
  "kernelspec": {
   "display_name": "Python 3",
   "language": "python",
   "name": "python3"
  },
  "language_info": {
   "codemirror_mode": {
    "name": "ipython",
    "version": 3
   },
   "file_extension": ".py",
   "mimetype": "text/x-python",
   "name": "python",
   "nbconvert_exporter": "python",
   "pygments_lexer": "ipython3",
   "version": "3.6.9"
  }
 },
 "nbformat": 4,
 "nbformat_minor": 2
}
